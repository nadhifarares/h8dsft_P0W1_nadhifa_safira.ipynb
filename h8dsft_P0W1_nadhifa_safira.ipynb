{
 "cells": [
  {
   "attachments": {},
   "cell_type": "markdown",
   "metadata": {},
   "source": [
    "# **GRADED CHALLENGE 1**"
   ]
  },
  {
   "attachments": {},
   "cell_type": "markdown",
   "metadata": {},
   "source": [
    "*Nadhifa Safira*\n",
    "\n",
    "HCK BATCH 6"
   ]
  },
  {
   "attachments": {},
   "cell_type": "markdown",
   "metadata": {},
   "source": [
    "**Problem Statement**\n",
    "\n",
    "Wabah Covid-19 telah menjadi ancaman serius di seluruh dunia, termasuk di Australia. Jumlah orang yang terinfeksi dan korban jiwa akibat virus ini terus meningkat sejak tahun 2020 hingga pertengahan tahun 2023. Kasus terjangkit COVID-19 di Australia pada rentang waktu 2020 hingga 2023 mengalami perkembangan yang sangat signifikan."
   ]
  },
  {
   "attachments": {},
   "cell_type": "markdown",
   "metadata": {},
   "source": [
    "**Objectives**\n",
    "\n",
    "Notebook ini akan digunakan untuk menganalisis data mengenai jumlah kasus Covid-19 di berbagai wilayah di Australia. Analisis tersebut bertujuan untuk mengidentifikasi wilayah yang memiliki tingkat penyebaran virus Covid-19 paling tinggi, serta wilayah yang kurang terkontaminasi oleh pandemi global ini.\n",
    "\n"
   ]
  },
  {
   "attachments": {},
   "cell_type": "markdown",
   "metadata": {},
   "source": [
    "**QUERY**\n",
    "\n",
    "SELECT datacovid.province_state as provinsi,\n",
    "datacovid.country_region as wilayah,\n",
    "datacovid.date as tahun_tanggal,\n",
    "datacovid.confirmed as positif_covid,\n",
    "datacovid.deaths as kematian,\n",
    "FROM `bigquery-public-data.covid19_jhu_csse.summary` as datacovid\n",
    "WHERE datacovid.country_region ='Australia'\n",
    "ORDER BY datacovid.date ASC\n",
    "\n",
    "Data set diatas diambil menggunakan SQL melalui Google Cloud Platform yang menampilkan data-data covid-19 yang terdaftar di berbagai wilayah di Australia."
   ]
  },
  {
   "attachments": {},
   "cell_type": "markdown",
   "metadata": {},
   "source": [
    "**Import Library**"
   ]
  },
  {
   "cell_type": "code",
   "execution_count": 112,
   "metadata": {},
   "outputs": [
    {
     "name": "stdout",
     "output_type": "stream",
     "text": [
      "Requirement already satisfied: pandas in /Users/nadhifarares/anaconda3/lib/python3.10/site-packages (1.5.3)\n",
      "Requirement already satisfied: python-dateutil>=2.8.1 in /Users/nadhifarares/anaconda3/lib/python3.10/site-packages (from pandas) (2.8.2)\n",
      "Requirement already satisfied: pytz>=2020.1 in /Users/nadhifarares/anaconda3/lib/python3.10/site-packages (from pandas) (2022.7)\n",
      "Requirement already satisfied: numpy>=1.21.0 in /Users/nadhifarares/anaconda3/lib/python3.10/site-packages (from pandas) (1.23.5)\n",
      "Requirement already satisfied: six>=1.5 in /Users/nadhifarares/anaconda3/lib/python3.10/site-packages (from python-dateutil>=2.8.1->pandas) (1.16.0)\n"
     ]
    }
   ],
   "source": [
    "!pip install pandas"
   ]
  },
  {
   "cell_type": "code",
   "execution_count": 191,
   "metadata": {},
   "outputs": [],
   "source": [
    "#Import library yang akan digunakan\n",
    "import pandas as pd\n",
    "import numpy as np"
   ]
  },
  {
   "attachments": {},
   "cell_type": "markdown",
   "metadata": {},
   "source": [
    "**Data Loading**"
   ]
  },
  {
   "cell_type": "code",
   "execution_count": 194,
   "metadata": {},
   "outputs": [],
   "source": [
    "# Mengimport file csv menjadi data frame melalui folder lalu mengganti \"tahun_tanggal\" menjadi type data date karena tadinya tertera sebagai object.\n",
    "df = pd.read_csv('/Users/nadhifarares/Documents/GC1/h8dsft_P0GC1_NadhifaSafira.csv',parse_dates=[\"tahun_tanggal\"])"
   ]
  },
  {
   "cell_type": "code",
   "execution_count": 195,
   "metadata": {},
   "outputs": [
    {
     "data": {
      "text/html": [
       "<div>\n",
       "<style scoped>\n",
       "    .dataframe tbody tr th:only-of-type {\n",
       "        vertical-align: middle;\n",
       "    }\n",
       "\n",
       "    .dataframe tbody tr th {\n",
       "        vertical-align: top;\n",
       "    }\n",
       "\n",
       "    .dataframe thead th {\n",
       "        text-align: right;\n",
       "    }\n",
       "</style>\n",
       "<table border=\"1\" class=\"dataframe\">\n",
       "  <thead>\n",
       "    <tr style=\"text-align: right;\">\n",
       "      <th></th>\n",
       "      <th>provinsi</th>\n",
       "      <th>wilayah</th>\n",
       "      <th>tahun_tanggal</th>\n",
       "      <th>positif_covid</th>\n",
       "      <th>kematian</th>\n",
       "    </tr>\n",
       "  </thead>\n",
       "  <tbody>\n",
       "    <tr>\n",
       "      <th>0</th>\n",
       "      <td>NaN</td>\n",
       "      <td>Australia</td>\n",
       "      <td>2020-01-23</td>\n",
       "      <td>NaN</td>\n",
       "      <td>NaN</td>\n",
       "    </tr>\n",
       "    <tr>\n",
       "      <th>1</th>\n",
       "      <td>NaN</td>\n",
       "      <td>Australia</td>\n",
       "      <td>2020-01-25</td>\n",
       "      <td>4.0</td>\n",
       "      <td>NaN</td>\n",
       "    </tr>\n",
       "    <tr>\n",
       "      <th>2</th>\n",
       "      <td>NaN</td>\n",
       "      <td>Australia</td>\n",
       "      <td>2020-01-26</td>\n",
       "      <td>4.0</td>\n",
       "      <td>NaN</td>\n",
       "    </tr>\n",
       "    <tr>\n",
       "      <th>3</th>\n",
       "      <td>New South Wales</td>\n",
       "      <td>Australia</td>\n",
       "      <td>2020-01-27</td>\n",
       "      <td>4.0</td>\n",
       "      <td>NaN</td>\n",
       "    </tr>\n",
       "    <tr>\n",
       "      <th>4</th>\n",
       "      <td>Victoria</td>\n",
       "      <td>Australia</td>\n",
       "      <td>2020-01-27</td>\n",
       "      <td>1.0</td>\n",
       "      <td>NaN</td>\n",
       "    </tr>\n",
       "  </tbody>\n",
       "</table>\n",
       "</div>"
      ],
      "text/plain": [
       "          provinsi    wilayah tahun_tanggal  positif_covid  kematian\n",
       "0              NaN  Australia    2020-01-23            NaN       NaN\n",
       "1              NaN  Australia    2020-01-25            4.0       NaN\n",
       "2              NaN  Australia    2020-01-26            4.0       NaN\n",
       "3  New South Wales  Australia    2020-01-27            4.0       NaN\n",
       "4         Victoria  Australia    2020-01-27            1.0       NaN"
      ]
     },
     "execution_count": 195,
     "metadata": {},
     "output_type": "execute_result"
    }
   ],
   "source": [
    "#Check 5 data terawal dari data frame \n",
    "df.head(5)"
   ]
  },
  {
   "cell_type": "code",
   "execution_count": 196,
   "metadata": {},
   "outputs": [
    {
     "data": {
      "text/html": [
       "<div>\n",
       "<style scoped>\n",
       "    .dataframe tbody tr th:only-of-type {\n",
       "        vertical-align: middle;\n",
       "    }\n",
       "\n",
       "    .dataframe tbody tr th {\n",
       "        vertical-align: top;\n",
       "    }\n",
       "\n",
       "    .dataframe thead th {\n",
       "        text-align: right;\n",
       "    }\n",
       "</style>\n",
       "<table border=\"1\" class=\"dataframe\">\n",
       "  <thead>\n",
       "    <tr style=\"text-align: right;\">\n",
       "      <th></th>\n",
       "      <th>provinsi</th>\n",
       "      <th>wilayah</th>\n",
       "      <th>tahun_tanggal</th>\n",
       "      <th>positif_covid</th>\n",
       "      <th>kematian</th>\n",
       "    </tr>\n",
       "  </thead>\n",
       "  <tbody>\n",
       "    <tr>\n",
       "      <th>8975</th>\n",
       "      <td>Queensland</td>\n",
       "      <td>Australia</td>\n",
       "      <td>2023-03-09</td>\n",
       "      <td>1800236.0</td>\n",
       "      <td>2783.0</td>\n",
       "    </tr>\n",
       "    <tr>\n",
       "      <th>8976</th>\n",
       "      <td>South Australia</td>\n",
       "      <td>Australia</td>\n",
       "      <td>2023-03-09</td>\n",
       "      <td>883620.0</td>\n",
       "      <td>1365.0</td>\n",
       "    </tr>\n",
       "    <tr>\n",
       "      <th>8977</th>\n",
       "      <td>Tasmania</td>\n",
       "      <td>Australia</td>\n",
       "      <td>2023-03-09</td>\n",
       "      <td>287507.0</td>\n",
       "      <td>256.0</td>\n",
       "    </tr>\n",
       "    <tr>\n",
       "      <th>8978</th>\n",
       "      <td>Victoria</td>\n",
       "      <td>Australia</td>\n",
       "      <td>2023-03-09</td>\n",
       "      <td>2880559.0</td>\n",
       "      <td>7370.0</td>\n",
       "    </tr>\n",
       "    <tr>\n",
       "      <th>8979</th>\n",
       "      <td>Western Australia</td>\n",
       "      <td>Australia</td>\n",
       "      <td>2023-03-09</td>\n",
       "      <td>1293461.0</td>\n",
       "      <td>952.0</td>\n",
       "    </tr>\n",
       "  </tbody>\n",
       "</table>\n",
       "</div>"
      ],
      "text/plain": [
       "               provinsi    wilayah tahun_tanggal  positif_covid  kematian\n",
       "8975         Queensland  Australia    2023-03-09      1800236.0    2783.0\n",
       "8976    South Australia  Australia    2023-03-09       883620.0    1365.0\n",
       "8977           Tasmania  Australia    2023-03-09       287507.0     256.0\n",
       "8978           Victoria  Australia    2023-03-09      2880559.0    7370.0\n",
       "8979  Western Australia  Australia    2023-03-09      1293461.0     952.0"
      ]
     },
     "execution_count": 196,
     "metadata": {},
     "output_type": "execute_result"
    }
   ],
   "source": [
    "#Check 5 data terakhir dari data frame\n",
    "df.tail(5)"
   ]
  },
  {
   "attachments": {},
   "cell_type": "markdown",
   "metadata": {},
   "source": [
    "**Data Cleaning**"
   ]
  },
  {
   "cell_type": "code",
   "execution_count": 198,
   "metadata": {},
   "outputs": [
    {
     "name": "stdout",
     "output_type": "stream",
     "text": [
      "<class 'pandas.core.frame.DataFrame'>\n",
      "RangeIndex: 8980 entries, 0 to 8979\n",
      "Data columns (total 5 columns):\n",
      " #   Column         Non-Null Count  Dtype         \n",
      "---  ------         --------------  -----         \n",
      " 0   provinsi       8977 non-null   object        \n",
      " 1   wilayah        8980 non-null   object        \n",
      " 2   tahun_tanggal  8980 non-null   datetime64[ns]\n",
      " 3   positif_covid  8979 non-null   float64       \n",
      " 4   kematian       8965 non-null   float64       \n",
      "dtypes: datetime64[ns](1), float64(2), object(2)\n",
      "memory usage: 350.9+ KB\n"
     ]
    }
   ],
   "source": [
    "#Melihat info dari data frame\n",
    "df.info()"
   ]
  },
  {
   "cell_type": "code",
   "execution_count": 200,
   "metadata": {},
   "outputs": [],
   "source": [
    "#Menghapus data null berdasarkan baris\n",
    "df.dropna(axis=0)\n",
    "\n",
    "df = df.dropna(axis=0)"
   ]
  },
  {
   "cell_type": "code",
   "execution_count": 204,
   "metadata": {},
   "outputs": [
    {
     "data": {
      "text/plain": [
       "provinsi         0\n",
       "wilayah          0\n",
       "tahun_tanggal    0\n",
       "positif_covid    0\n",
       "kematian         0\n",
       "dtype: int64"
      ]
     },
     "execution_count": 204,
     "metadata": {},
     "output_type": "execute_result"
    }
   ],
   "source": [
    "#Check apakah masih ada data yang null atau data kosong atau tidak\n",
    "df.isnull().sum()"
   ]
  },
  {
   "cell_type": "code",
   "execution_count": 215,
   "metadata": {},
   "outputs": [
    {
     "name": "stdout",
     "output_type": "stream",
     "text": [
      "               provinsi    wilayah tahun_tanggal  positif_covid  kematian\n",
      "15      New South Wales  Australia    2020-02-01            4.0       0.0\n",
      "16             Victoria  Australia    2020-02-01            4.0       0.0\n",
      "17           Queensland  Australia    2020-02-01            3.0       0.0\n",
      "18      South Australia  Australia    2020-02-01            1.0       0.0\n",
      "19      New South Wales  Australia    2020-02-02            4.0       0.0\n",
      "...                 ...        ...           ...            ...       ...\n",
      "8975         Queensland  Australia    2023-03-09      1800236.0    2783.0\n",
      "8976    South Australia  Australia    2023-03-09       883620.0    1365.0\n",
      "8977           Tasmania  Australia    2023-03-09       287507.0     256.0\n",
      "8978           Victoria  Australia    2023-03-09      2880559.0    7370.0\n",
      "8979  Western Australia  Australia    2023-03-09      1293461.0     952.0\n",
      "\n",
      "[8965 rows x 5 columns]\n",
      "               provinsi    wilayah tahun_tanggal  positif_covid  kematian\n",
      "15      New South Wales  Australia    2020-02-01            4.0       0.0\n",
      "16             Victoria  Australia    2020-02-01            4.0       0.0\n",
      "17           Queensland  Australia    2020-02-01            3.0       0.0\n",
      "18      South Australia  Australia    2020-02-01            1.0       0.0\n",
      "19      New South Wales  Australia    2020-02-02            4.0       0.0\n",
      "...                 ...        ...           ...            ...       ...\n",
      "8975         Queensland  Australia    2023-03-09      1800236.0    2783.0\n",
      "8976    South Australia  Australia    2023-03-09       883620.0    1365.0\n",
      "8977           Tasmania  Australia    2023-03-09       287507.0     256.0\n",
      "8978           Victoria  Australia    2023-03-09      2880559.0    7370.0\n",
      "8979  Western Australia  Australia    2023-03-09      1293461.0     952.0\n",
      "\n",
      "[8965 rows x 5 columns]\n"
     ]
    }
   ],
   "source": [
    "#Mengganti nama nama kolom di data frame serta membuat dataframe baru\n",
    "df.rename(columns={'provinsi' : 'States', 'wilayah' : 'Country', 'tahun_tanggal' : 'Date', 'positif_covid' : 'Confirmed', 'kematian' : 'Deaths'})\n",
    "print(newdf)\n",
    "\n",
    "df =df.rename(columns={'provinsi' : 'States', 'wilayah' : 'Country', 'tahun_tanggal' : 'Date', 'positif_covid' : 'Confirmed', 'kematian' : 'Deaths'})\n",
    "print(newdf)"
   ]
  },
  {
   "cell_type": "code",
   "execution_count": 216,
   "metadata": {},
   "outputs": [
    {
     "data": {
      "text/html": [
       "<div>\n",
       "<style scoped>\n",
       "    .dataframe tbody tr th:only-of-type {\n",
       "        vertical-align: middle;\n",
       "    }\n",
       "\n",
       "    .dataframe tbody tr th {\n",
       "        vertical-align: top;\n",
       "    }\n",
       "\n",
       "    .dataframe thead th {\n",
       "        text-align: right;\n",
       "    }\n",
       "</style>\n",
       "<table border=\"1\" class=\"dataframe\">\n",
       "  <thead>\n",
       "    <tr style=\"text-align: right;\">\n",
       "      <th></th>\n",
       "      <th>States</th>\n",
       "      <th>Country</th>\n",
       "      <th>Date</th>\n",
       "      <th>Confirmed</th>\n",
       "      <th>Deaths</th>\n",
       "    </tr>\n",
       "  </thead>\n",
       "  <tbody>\n",
       "    <tr>\n",
       "      <th>15</th>\n",
       "      <td>New South Wales</td>\n",
       "      <td>Australia</td>\n",
       "      <td>2020-02-01</td>\n",
       "      <td>4.0</td>\n",
       "      <td>0.0</td>\n",
       "    </tr>\n",
       "    <tr>\n",
       "      <th>16</th>\n",
       "      <td>Victoria</td>\n",
       "      <td>Australia</td>\n",
       "      <td>2020-02-01</td>\n",
       "      <td>4.0</td>\n",
       "      <td>0.0</td>\n",
       "    </tr>\n",
       "    <tr>\n",
       "      <th>17</th>\n",
       "      <td>Queensland</td>\n",
       "      <td>Australia</td>\n",
       "      <td>2020-02-01</td>\n",
       "      <td>3.0</td>\n",
       "      <td>0.0</td>\n",
       "    </tr>\n",
       "    <tr>\n",
       "      <th>18</th>\n",
       "      <td>South Australia</td>\n",
       "      <td>Australia</td>\n",
       "      <td>2020-02-01</td>\n",
       "      <td>1.0</td>\n",
       "      <td>0.0</td>\n",
       "    </tr>\n",
       "    <tr>\n",
       "      <th>19</th>\n",
       "      <td>New South Wales</td>\n",
       "      <td>Australia</td>\n",
       "      <td>2020-02-02</td>\n",
       "      <td>4.0</td>\n",
       "      <td>0.0</td>\n",
       "    </tr>\n",
       "    <tr>\n",
       "      <th>...</th>\n",
       "      <td>...</td>\n",
       "      <td>...</td>\n",
       "      <td>...</td>\n",
       "      <td>...</td>\n",
       "      <td>...</td>\n",
       "    </tr>\n",
       "    <tr>\n",
       "      <th>8975</th>\n",
       "      <td>Queensland</td>\n",
       "      <td>Australia</td>\n",
       "      <td>2023-03-09</td>\n",
       "      <td>1800236.0</td>\n",
       "      <td>2783.0</td>\n",
       "    </tr>\n",
       "    <tr>\n",
       "      <th>8976</th>\n",
       "      <td>South Australia</td>\n",
       "      <td>Australia</td>\n",
       "      <td>2023-03-09</td>\n",
       "      <td>883620.0</td>\n",
       "      <td>1365.0</td>\n",
       "    </tr>\n",
       "    <tr>\n",
       "      <th>8977</th>\n",
       "      <td>Tasmania</td>\n",
       "      <td>Australia</td>\n",
       "      <td>2023-03-09</td>\n",
       "      <td>287507.0</td>\n",
       "      <td>256.0</td>\n",
       "    </tr>\n",
       "    <tr>\n",
       "      <th>8978</th>\n",
       "      <td>Victoria</td>\n",
       "      <td>Australia</td>\n",
       "      <td>2023-03-09</td>\n",
       "      <td>2880559.0</td>\n",
       "      <td>7370.0</td>\n",
       "    </tr>\n",
       "    <tr>\n",
       "      <th>8979</th>\n",
       "      <td>Western Australia</td>\n",
       "      <td>Australia</td>\n",
       "      <td>2023-03-09</td>\n",
       "      <td>1293461.0</td>\n",
       "      <td>952.0</td>\n",
       "    </tr>\n",
       "  </tbody>\n",
       "</table>\n",
       "<p>8965 rows × 5 columns</p>\n",
       "</div>"
      ],
      "text/plain": [
       "                 States    Country        Date  Confirmed  Deaths\n",
       "15      New South Wales  Australia  2020-02-01        4.0     0.0\n",
       "16             Victoria  Australia  2020-02-01        4.0     0.0\n",
       "17           Queensland  Australia  2020-02-01        3.0     0.0\n",
       "18      South Australia  Australia  2020-02-01        1.0     0.0\n",
       "19      New South Wales  Australia  2020-02-02        4.0     0.0\n",
       "...                 ...        ...         ...        ...     ...\n",
       "8975         Queensland  Australia  2023-03-09  1800236.0  2783.0\n",
       "8976    South Australia  Australia  2023-03-09   883620.0  1365.0\n",
       "8977           Tasmania  Australia  2023-03-09   287507.0   256.0\n",
       "8978           Victoria  Australia  2023-03-09  2880559.0  7370.0\n",
       "8979  Western Australia  Australia  2023-03-09  1293461.0   952.0\n",
       "\n",
       "[8965 rows x 5 columns]"
      ]
     },
     "execution_count": 216,
     "metadata": {},
     "output_type": "execute_result"
    }
   ],
   "source": [
    "df"
   ]
  },
  {
   "attachments": {},
   "cell_type": "markdown",
   "metadata": {},
   "source": [
    "**DATA EXPLORATION**"
   ]
  },
  {
   "attachments": {},
   "cell_type": "markdown",
   "metadata": {},
   "source": [
    "***Dalam upaya mencari wilayah di Australia yang memiliki jumlah kasus terjangkit virus Covid-19 terbanyak, dilakukan analisis untuk mengidentifikasi wilayah yang paling terdampak oleh penyebaran virus tersebut di negara tersebut.***"
   ]
  },
  {
   "cell_type": "code",
   "execution_count": 280,
   "metadata": {},
   "outputs": [
    {
     "data": {
      "text/plain": [
       "States\n",
       "New South Wales      3915992.0\n",
       "Victoria             2880559.0\n",
       "Queensland           1800236.0\n",
       "Western Australia    1293461.0\n",
       "South Australia       883620.0\n",
       "Name: Confirmed, dtype: float64"
      ]
     },
     "execution_count": 280,
     "metadata": {},
     "output_type": "execute_result"
    }
   ],
   "source": [
    "#Mencari tau top 3 kasus covid terbanyak di berbagai bagian negara Australia\n",
    "top_three_covid = df.groupby('States').max().sort_values(by='Confirmed', ascending=False)['Confirmed'][:5]\n",
    "top_three_covid"
   ]
  },
  {
   "cell_type": "code",
   "execution_count": 281,
   "metadata": {},
   "outputs": [
    {
     "data": {
      "text/plain": [
       "<Axes: ylabel='Confirmed'>"
      ]
     },
     "execution_count": 281,
     "metadata": {},
     "output_type": "execute_result"
    },
    {
     "data": {
      "image/png": "[encoded data removed]",
      "text/plain": [
       "<Figure size 640x480 with 1 Axes>"
      ]
     },
     "metadata": {},
     "output_type": "display_data"
    }
   ],
   "source": [
    "# Menjadikkan data sebagai pie chart untuk melihat persentase data\n",
    "df.groupby('States').max().sort_values(by='Confirmed', ascending=False)['Confirmed'][:5].head().plot(kind='pie',autopct='%.0f%%')"
   ]
  },
  {
   "attachments": {},
   "cell_type": "markdown",
   "metadata": {},
   "source": [
    "Terdapat data yang menunjukkan bahwa pada rentang tahun 2020-2023, persentase penduduk yang terpapar virus Covid-19 di wilayah New South Wales mencapai 36%, di wilayah Victoria mencapai 27%, dan di wilayah Queensland mencapai 17% di negara Australia."
   ]
  },
  {
   "cell_type": "code",
   "execution_count": 268,
   "metadata": {},
   "outputs": [
    {
     "data": {
      "text/plain": [
       "States\n",
       "Victoria             7370.0\n",
       "New South Wales      6529.0\n",
       "Queensland           2783.0\n",
       "South Australia      1365.0\n",
       "Western Australia     952.0\n",
       "Name: Deaths, dtype: float64"
      ]
     },
     "execution_count": 268,
     "metadata": {},
     "output_type": "execute_result"
    }
   ],
   "source": [
    "# Mengetahui jumlah berapa banyak orang yang meninggal diakibatkan oleh Covid-19\n",
    "top_three_deaths = df.groupby('States').max().sort_values(by='Deaths', ascending=False)['Deaths'][:5]\n",
    "top_three_deaths"
   ]
  },
  {
   "cell_type": "code",
   "execution_count": 294,
   "metadata": {},
   "outputs": [
    {
     "data": {
      "text/plain": [
       "<Axes: xlabel='States'>"
      ]
     },
     "execution_count": 294,
     "metadata": {},
     "output_type": "execute_result"
    },
    {
     "data": {
      "image/png": "[encoded data removed]",
      "text/plain": [
       "<Figure size 640x480 with 1 Axes>"
      ]
     },
     "metadata": {},
     "output_type": "display_data"
    }
   ],
   "source": [
    "#Merubah data menjadi bar-chart\n",
    "top_three_deaths.plot(kind='bar')"
   ]
  },
  {
   "attachments": {},
   "cell_type": "markdown",
   "metadata": {},
   "source": [
    "Berdasarkan grafik batang di atas, terlihat bahwa terdapat sekitar 7000 korban jiwa akibat virus Covid-19 di wilayah Victoria, sekitar 6000 korban jiwa di wilayah New South Wales, dan hampir 3000 korban jiwa di wilayah Queensland di Australia."
   ]
  },
  {
   "cell_type": "code",
   "execution_count": 307,
   "metadata": {},
   "outputs": [
    {
     "data": {
      "text/html": [
       "<div>\n",
       "<style scoped>\n",
       "    .dataframe tbody tr th:only-of-type {\n",
       "        vertical-align: middle;\n",
       "    }\n",
       "\n",
       "    .dataframe tbody tr th {\n",
       "        vertical-align: top;\n",
       "    }\n",
       "\n",
       "    .dataframe thead th {\n",
       "        text-align: right;\n",
       "    }\n",
       "</style>\n",
       "<table border=\"1\" class=\"dataframe\">\n",
       "  <thead>\n",
       "    <tr style=\"text-align: right;\">\n",
       "      <th></th>\n",
       "      <th>States</th>\n",
       "      <th>Country</th>\n",
       "      <th>Date</th>\n",
       "      <th>Confirmed</th>\n",
       "      <th>Deaths</th>\n",
       "    </tr>\n",
       "  </thead>\n",
       "  <tbody>\n",
       "    <tr>\n",
       "      <th>15</th>\n",
       "      <td>New South Wales</td>\n",
       "      <td>Australia</td>\n",
       "      <td>2020-02-01</td>\n",
       "      <td>4.0</td>\n",
       "      <td>0.0</td>\n",
       "    </tr>\n",
       "    <tr>\n",
       "      <th>19</th>\n",
       "      <td>New South Wales</td>\n",
       "      <td>Australia</td>\n",
       "      <td>2020-02-02</td>\n",
       "      <td>4.0</td>\n",
       "      <td>0.0</td>\n",
       "    </tr>\n",
       "    <tr>\n",
       "      <th>23</th>\n",
       "      <td>New South Wales</td>\n",
       "      <td>Australia</td>\n",
       "      <td>2020-02-03</td>\n",
       "      <td>4.0</td>\n",
       "      <td>0.0</td>\n",
       "    </tr>\n",
       "    <tr>\n",
       "      <th>27</th>\n",
       "      <td>New South Wales</td>\n",
       "      <td>Australia</td>\n",
       "      <td>2020-02-04</td>\n",
       "      <td>4.0</td>\n",
       "      <td>0.0</td>\n",
       "    </tr>\n",
       "    <tr>\n",
       "      <th>31</th>\n",
       "      <td>New South Wales</td>\n",
       "      <td>Australia</td>\n",
       "      <td>2020-02-05</td>\n",
       "      <td>4.0</td>\n",
       "      <td>0.0</td>\n",
       "    </tr>\n",
       "    <tr>\n",
       "      <th>...</th>\n",
       "      <td>...</td>\n",
       "      <td>...</td>\n",
       "      <td>...</td>\n",
       "      <td>...</td>\n",
       "      <td>...</td>\n",
       "    </tr>\n",
       "    <tr>\n",
       "      <th>8941</th>\n",
       "      <td>New South Wales</td>\n",
       "      <td>Australia</td>\n",
       "      <td>2023-03-05</td>\n",
       "      <td>3908129.0</td>\n",
       "      <td>6493.0</td>\n",
       "    </tr>\n",
       "    <tr>\n",
       "      <th>8949</th>\n",
       "      <td>New South Wales</td>\n",
       "      <td>Australia</td>\n",
       "      <td>2023-03-06</td>\n",
       "      <td>3908129.0</td>\n",
       "      <td>6493.0</td>\n",
       "    </tr>\n",
       "    <tr>\n",
       "      <th>8957</th>\n",
       "      <td>New South Wales</td>\n",
       "      <td>Australia</td>\n",
       "      <td>2023-03-07</td>\n",
       "      <td>3908129.0</td>\n",
       "      <td>6493.0</td>\n",
       "    </tr>\n",
       "    <tr>\n",
       "      <th>8965</th>\n",
       "      <td>New South Wales</td>\n",
       "      <td>Australia</td>\n",
       "      <td>2023-03-08</td>\n",
       "      <td>3908129.0</td>\n",
       "      <td>6493.0</td>\n",
       "    </tr>\n",
       "    <tr>\n",
       "      <th>8973</th>\n",
       "      <td>New South Wales</td>\n",
       "      <td>Australia</td>\n",
       "      <td>2023-03-09</td>\n",
       "      <td>3915992.0</td>\n",
       "      <td>6529.0</td>\n",
       "    </tr>\n",
       "  </tbody>\n",
       "</table>\n",
       "<p>1133 rows × 5 columns</p>\n",
       "</div>"
      ],
      "text/plain": [
       "               States    Country        Date  Confirmed  Deaths\n",
       "15    New South Wales  Australia  2020-02-01        4.0     0.0\n",
       "19    New South Wales  Australia  2020-02-02        4.0     0.0\n",
       "23    New South Wales  Australia  2020-02-03        4.0     0.0\n",
       "27    New South Wales  Australia  2020-02-04        4.0     0.0\n",
       "31    New South Wales  Australia  2020-02-05        4.0     0.0\n",
       "...               ...        ...         ...        ...     ...\n",
       "8941  New South Wales  Australia  2023-03-05  3908129.0  6493.0\n",
       "8949  New South Wales  Australia  2023-03-06  3908129.0  6493.0\n",
       "8957  New South Wales  Australia  2023-03-07  3908129.0  6493.0\n",
       "8965  New South Wales  Australia  2023-03-08  3908129.0  6493.0\n",
       "8973  New South Wales  Australia  2023-03-09  3915992.0  6529.0\n",
       "\n",
       "[1133 rows x 5 columns]"
      ]
     },
     "execution_count": 307,
     "metadata": {},
     "output_type": "execute_result"
    }
   ],
   "source": [
    "# Melihat hanya data entry untuk New South Wales \n",
    "hasil_nsw = df[df['States'] == 'New South Wales']\n",
    "hasil_nsw\n"
   ]
  },
  {
   "cell_type": "code",
   "execution_count": 312,
   "metadata": {},
   "outputs": [
    {
     "data": {
      "text/html": [
       "<div>\n",
       "<style scoped>\n",
       "    .dataframe tbody tr th:only-of-type {\n",
       "        vertical-align: middle;\n",
       "    }\n",
       "\n",
       "    .dataframe tbody tr th {\n",
       "        vertical-align: top;\n",
       "    }\n",
       "\n",
       "    .dataframe thead th {\n",
       "        text-align: right;\n",
       "    }\n",
       "</style>\n",
       "<table border=\"1\" class=\"dataframe\">\n",
       "  <thead>\n",
       "    <tr style=\"text-align: right;\">\n",
       "      <th></th>\n",
       "      <th>States</th>\n",
       "      <th>Country</th>\n",
       "      <th>Date</th>\n",
       "      <th>Confirmed</th>\n",
       "      <th>Deaths</th>\n",
       "    </tr>\n",
       "  </thead>\n",
       "  <tbody>\n",
       "    <tr>\n",
       "      <th>8973</th>\n",
       "      <td>New South Wales</td>\n",
       "      <td>Australia</td>\n",
       "      <td>2023-03-09</td>\n",
       "      <td>3915992.0</td>\n",
       "      <td>6529.0</td>\n",
       "    </tr>\n",
       "  </tbody>\n",
       "</table>\n",
       "</div>"
      ],
      "text/plain": [
       "               States    Country        Date  Confirmed  Deaths\n",
       "8973  New South Wales  Australia  2023-03-09  3915992.0  6529.0"
      ]
     },
     "execution_count": 312,
     "metadata": {},
     "output_type": "execute_result"
    }
   ],
   "source": [
    "# Mengetahui kapan kasus covid-19 di New South Wales tertinggi terjadi dengan melihat dari data paling akhir\n",
    "hasil_nsw.tail(1)"
   ]
  },
  {
   "attachments": {},
   "cell_type": "markdown",
   "metadata": {},
   "source": [
    "Pada tahun 2023, tercatat sebanyak 3.915.992 kasus Covid-19 di New South Wales, yang menyebabkan kehilangan nyawa sebanyak 6.529 orang. Jumlah kasus dan korban jiwa tersebut merupakan yang tertinggi di seluruh negara Australia."
   ]
  },
  {
   "cell_type": "code",
   "execution_count": 300,
   "metadata": {},
   "outputs": [
    {
     "data": {
      "text/plain": [
       "States\n",
       "New South Wales                 4.0\n",
       "Victoria                        4.0\n",
       "Queensland                      2.0\n",
       "Western Australia               2.0\n",
       "Australian Capital Territory    1.0\n",
       "South Australia                 1.0\n",
       "Tasmania                        1.0\n",
       "External territories            0.0\n",
       "From Diamond Princess           0.0\n",
       "Jervis Bay Territory            0.0\n",
       "Northern Territory              0.0\n",
       "Name: Confirmed, dtype: float64"
      ]
     },
     "execution_count": 300,
     "metadata": {},
     "output_type": "execute_result"
    }
   ],
   "source": [
    "#Mencari tahu diwilayah mana yang paling sedikit terjangkit covid-19 untuk dibandingkan\n",
    "less_case = df.groupby('States').min().sort_values(by='Confirmed', ascending=False)['Confirmed']\n",
    "less_case"
   ]
  },
  {
   "cell_type": "code",
   "execution_count": 301,
   "metadata": {},
   "outputs": [
    {
     "data": {
      "text/plain": [
       "States\n",
       "Tasmania                 1.0\n",
       "External territories     0.0\n",
       "From Diamond Princess    0.0\n",
       "Jervis Bay Territory     0.0\n",
       "Northern Territory       0.0\n",
       "Name: Confirmed, dtype: float64"
      ]
     },
     "execution_count": 301,
     "metadata": {},
     "output_type": "execute_result"
    }
   ],
   "source": [
    "# Wilayah-wilayah yang tidak terlalu banyak terjangkit penyakit covid-19\n",
    "less_case.tail()"
   ]
  },
  {
   "cell_type": "code",
   "execution_count": 317,
   "metadata": {},
   "outputs": [
    {
     "data": {
      "text/plain": [
       "<Axes: xlabel='States'>"
      ]
     },
     "execution_count": 317,
     "metadata": {},
     "output_type": "execute_result"
    },
    {
     "data": {
      "image/png": "[encoded data removed]",
      "text/plain": [
       "<Figure size 640x480 with 1 Axes>"
      ]
     },
     "metadata": {},
     "output_type": "display_data"
    }
   ],
   "source": [
    "#Melihat hasil chart melalui line graph agar lebih gampang untuk dibaca\n",
    "less_case.plot()"
   ]
  },
  {
   "cell_type": "code",
   "execution_count": 305,
   "metadata": {},
   "outputs": [
    {
     "data": {
      "text/html": [
       "<div>\n",
       "<style scoped>\n",
       "    .dataframe tbody tr th:only-of-type {\n",
       "        vertical-align: middle;\n",
       "    }\n",
       "\n",
       "    .dataframe tbody tr th {\n",
       "        vertical-align: top;\n",
       "    }\n",
       "\n",
       "    .dataframe thead th {\n",
       "        text-align: right;\n",
       "    }\n",
       "</style>\n",
       "<table border=\"1\" class=\"dataframe\">\n",
       "  <thead>\n",
       "    <tr style=\"text-align: right;\">\n",
       "      <th></th>\n",
       "      <th>States</th>\n",
       "      <th>Country</th>\n",
       "      <th>Date</th>\n",
       "      <th>Confirmed</th>\n",
       "      <th>Deaths</th>\n",
       "    </tr>\n",
       "  </thead>\n",
       "  <tbody>\n",
       "    <tr>\n",
       "      <th>166</th>\n",
       "      <td>Northern Territory</td>\n",
       "      <td>Australia</td>\n",
       "      <td>2020-03-04</td>\n",
       "      <td>1.0</td>\n",
       "      <td>0.0</td>\n",
       "    </tr>\n",
       "    <tr>\n",
       "      <th>174</th>\n",
       "      <td>Northern Territory</td>\n",
       "      <td>Australia</td>\n",
       "      <td>2020-03-05</td>\n",
       "      <td>1.0</td>\n",
       "      <td>0.0</td>\n",
       "    </tr>\n",
       "    <tr>\n",
       "      <th>184</th>\n",
       "      <td>Northern Territory</td>\n",
       "      <td>Australia</td>\n",
       "      <td>2020-03-06</td>\n",
       "      <td>0.0</td>\n",
       "      <td>0.0</td>\n",
       "    </tr>\n",
       "    <tr>\n",
       "      <th>192</th>\n",
       "      <td>Northern Territory</td>\n",
       "      <td>Australia</td>\n",
       "      <td>2020-03-07</td>\n",
       "      <td>0.0</td>\n",
       "      <td>0.0</td>\n",
       "    </tr>\n",
       "    <tr>\n",
       "      <th>200</th>\n",
       "      <td>Northern Territory</td>\n",
       "      <td>Australia</td>\n",
       "      <td>2020-03-08</td>\n",
       "      <td>0.0</td>\n",
       "      <td>0.0</td>\n",
       "    </tr>\n",
       "    <tr>\n",
       "      <th>...</th>\n",
       "      <td>...</td>\n",
       "      <td>...</td>\n",
       "      <td>...</td>\n",
       "      <td>...</td>\n",
       "      <td>...</td>\n",
       "    </tr>\n",
       "    <tr>\n",
       "      <th>8942</th>\n",
       "      <td>Northern Territory</td>\n",
       "      <td>Australia</td>\n",
       "      <td>2023-03-05</td>\n",
       "      <td>105021.0</td>\n",
       "      <td>90.0</td>\n",
       "    </tr>\n",
       "    <tr>\n",
       "      <th>8950</th>\n",
       "      <td>Northern Territory</td>\n",
       "      <td>Australia</td>\n",
       "      <td>2023-03-06</td>\n",
       "      <td>105021.0</td>\n",
       "      <td>90.0</td>\n",
       "    </tr>\n",
       "    <tr>\n",
       "      <th>8958</th>\n",
       "      <td>Northern Territory</td>\n",
       "      <td>Australia</td>\n",
       "      <td>2023-03-07</td>\n",
       "      <td>105021.0</td>\n",
       "      <td>90.0</td>\n",
       "    </tr>\n",
       "    <tr>\n",
       "      <th>8966</th>\n",
       "      <td>Northern Territory</td>\n",
       "      <td>Australia</td>\n",
       "      <td>2023-03-08</td>\n",
       "      <td>105021.0</td>\n",
       "      <td>90.0</td>\n",
       "    </tr>\n",
       "    <tr>\n",
       "      <th>8974</th>\n",
       "      <td>Northern Territory</td>\n",
       "      <td>Australia</td>\n",
       "      <td>2023-03-09</td>\n",
       "      <td>105111.0</td>\n",
       "      <td>91.0</td>\n",
       "    </tr>\n",
       "  </tbody>\n",
       "</table>\n",
       "<p>1101 rows × 5 columns</p>\n",
       "</div>"
      ],
      "text/plain": [
       "                  States    Country        Date  Confirmed  Deaths\n",
       "166   Northern Territory  Australia  2020-03-04        1.0     0.0\n",
       "174   Northern Territory  Australia  2020-03-05        1.0     0.0\n",
       "184   Northern Territory  Australia  2020-03-06        0.0     0.0\n",
       "192   Northern Territory  Australia  2020-03-07        0.0     0.0\n",
       "200   Northern Territory  Australia  2020-03-08        0.0     0.0\n",
       "...                  ...        ...         ...        ...     ...\n",
       "8942  Northern Territory  Australia  2023-03-05   105021.0    90.0\n",
       "8950  Northern Territory  Australia  2023-03-06   105021.0    90.0\n",
       "8958  Northern Territory  Australia  2023-03-07   105021.0    90.0\n",
       "8966  Northern Territory  Australia  2023-03-08   105021.0    90.0\n",
       "8974  Northern Territory  Australia  2023-03-09   105111.0    91.0\n",
       "\n",
       "[1101 rows x 5 columns]"
      ]
     },
     "execution_count": 305,
     "metadata": {},
     "output_type": "execute_result"
    }
   ],
   "source": [
    "hasil_nt = df[df['States'] == 'Northern Territory']\n",
    "hasil_nt\n"
   ]
  },
  {
   "cell_type": "code",
   "execution_count": 311,
   "metadata": {},
   "outputs": [
    {
     "data": {
      "text/html": [
       "<div>\n",
       "<style scoped>\n",
       "    .dataframe tbody tr th:only-of-type {\n",
       "        vertical-align: middle;\n",
       "    }\n",
       "\n",
       "    .dataframe tbody tr th {\n",
       "        vertical-align: top;\n",
       "    }\n",
       "\n",
       "    .dataframe thead th {\n",
       "        text-align: right;\n",
       "    }\n",
       "</style>\n",
       "<table border=\"1\" class=\"dataframe\">\n",
       "  <thead>\n",
       "    <tr style=\"text-align: right;\">\n",
       "      <th></th>\n",
       "      <th>States</th>\n",
       "      <th>Country</th>\n",
       "      <th>Date</th>\n",
       "      <th>Confirmed</th>\n",
       "      <th>Deaths</th>\n",
       "    </tr>\n",
       "  </thead>\n",
       "  <tbody>\n",
       "    <tr>\n",
       "      <th>8974</th>\n",
       "      <td>Northern Territory</td>\n",
       "      <td>Australia</td>\n",
       "      <td>2023-03-09</td>\n",
       "      <td>105111.0</td>\n",
       "      <td>91.0</td>\n",
       "    </tr>\n",
       "  </tbody>\n",
       "</table>\n",
       "</div>"
      ],
      "text/plain": [
       "                  States    Country        Date  Confirmed  Deaths\n",
       "8974  Northern Territory  Australia  2023-03-09   105111.0    91.0"
      ]
     },
     "execution_count": 311,
     "metadata": {},
     "output_type": "execute_result"
    }
   ],
   "source": [
    "hasil_nt.tail(1)"
   ]
  },
  {
   "attachments": {},
   "cell_type": "markdown",
   "metadata": {},
   "source": [
    "Hingga tahun 2023, tercatat sebanyak 105.111 kasus Covid-19 di Northern Territory, dengan jumlah korban jiwa sebanyak 91. Angka ini merupakan yang terendah di antara kasus Covid-19 di seluruh negara Australia."
   ]
  },
  {
   "attachments": {},
   "cell_type": "markdown",
   "metadata": {},
   "source": [
    "# **Conclusion & Assumptions**"
   ]
  },
  {
   "attachments": {},
   "cell_type": "markdown",
   "metadata": {},
   "source": [
    "***Assumptions***\n",
    "\n",
    "Berjalan dengan latar belakang masalah yang telah disebutkan sebelumnya, terbukti bahwa kasus infeksi dan korban jiwa akibat Covid-19 di Australia mengalami peningkatan. Namun, terdapat juga beberapa negara lain yang mengalami tingkat penyebaran Covid-19 yang stabil, bahkan hanya menyebabkan kurang dari 100 kematian per tahunnya. \n",
    "\n",
    "Perbedaan ini mungkin disebabkan oleh ketidakmerataan persebaran penduduk di Australia. Sebagian besar penduduk Australia tinggal di wilayah pesisir timur, tenggara, dan selatan, seperti Sydney di New South Wales, Melbourne di Victoria, dan Brisbane di Queensland. Faktanya, sekitar 70% wilayah Australia merupakan daerah gurun yang memiliki kondisi lingkungan yang kurang mendukung dan sumber daya alam yang terbatas. Akibatnya, populasi penduduk di wilayah pedalaman dan gurun cenderung lebih sedikit. Oleh karena itu, beberapa negara bagian di Australia jarang terpapar virus Covid-19.\n",
    "\n",
    "***Conclusion***\n",
    "\n",
    "1. Wilayah 'New South Wales' mencatat tingkat kasus Covid-19 tertinggi di Australia, dengan jumlah kasus sebanyak 3.915.992 dan jumlah korban jiwa sebanyak 6.529. Kejadian ini terjadi dari tahun 2020 hingga 2023.\n",
    "2. Sebaliknya, wilayah 'Northern Territory' memiliki tingkat kasus Covid-19 yang paling rendah di Australia. Meskipun terdapat sekitar 105.111 kasus Covid-19, jumlah korban jiwa hanya mencapai 91 orang. Selama tiga tahun, wilayah ini tidak pernah melaporkan jumlah kematian melebihi angka 100.\n",
    "3. Jika dibandingkan dengan wilayah-wilayah seperti New South Wales, Victoria, dan Queensland, terlihat bahwa wilayah-wilayah seperti Northern Territory, Jervis Bay Territory, dan From Diamond Princess memiliki tingkat paparan virus Covid-19 yang paling rendah di Australia.\n",
    "\n",
    "Kesimpulan ini menegaskan adanya variasi dalam tingkat paparan dan dampak Covid-19 di berbagai wilayah di Australia. Wilayah-wilayah dengan tingkat kasus yang tinggi perlu mengambil langkah-langkah lebih lanjut untuk mengendalikan penyebaran virus, sementara wilayah-wilayah dengan tingkat paparan rendah dapat dijadikan contoh dalam penerapan langkah-langkah pencegahan yang efektif."
   ]
  }
 ],
 "metadata": {
  "kernelspec": {
   "display_name": "Python 3",
   "language": "python",
   "name": "python3"
  },
  "language_info": {
   "codemirror_mode": {
    "name": "ipython",
    "version": 3
   },
   "file_extension": ".py",
   "mimetype": "text/x-python",
   "name": "python",
   "nbconvert_exporter": "python",
   "pygments_lexer": "ipython3",
   "version": "3.10.9"
  },
  "orig_nbformat": 4
 },
 "nbformat": 4,
 "nbformat_minor": 2
}
